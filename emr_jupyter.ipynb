{
 "cells": [
  {
   "cell_type": "code",
   "execution_count": 1,
   "id": "39deba4a",
   "metadata": {},
   "outputs": [
    {
     "data": {
      "application/vnd.jupyter.widget-view+json": {
       "model_id": "128bde551f60498f87ed399addc1abae",
       "version_major": 2,
       "version_minor": 0
      },
      "text/plain": [
       "VBox()"
      ]
     },
     "metadata": {},
     "output_type": "display_data"
    },
    {
     "name": "stdout",
     "output_type": "stream",
     "text": [
      "Starting Spark application\n"
     ]
    },
    {
     "data": {
      "text/html": [
       "<table>\n",
       "<tr><th>ID</th><th>YARN Application ID</th><th>Kind</th><th>State</th><th>Spark UI</th><th>Driver log</th><th>Current session?</th></tr><tr><td>5</td><td>application_1639197913732_0006</td><td>pyspark</td><td>idle</td><td></td><td></td><td>✔</td></tr></table>"
      ],
      "text/plain": [
       "<IPython.core.display.HTML object>"
      ]
     },
     "metadata": {},
     "output_type": "display_data"
    },
    {
     "data": {
      "application/vnd.jupyter.widget-view+json": {
       "model_id": "",
       "version_major": 2,
       "version_minor": 0
      },
      "text/plain": [
       "FloatProgress(value=0.0, bar_style='info', description='Progress:', layout=Layout(height='25px', width='50%'),…"
      ]
     },
     "metadata": {},
     "output_type": "display_data"
    },
    {
     "name": "stdout",
     "output_type": "stream",
     "text": [
      "SparkSession available as 'spark'.\n"
     ]
    },
    {
     "data": {
      "application/vnd.jupyter.widget-view+json": {
       "model_id": "",
       "version_major": 2,
       "version_minor": 0
      },
      "text/plain": [
       "FloatProgress(value=0.0, bar_style='info', description='Progress:', layout=Layout(height='25px', width='50%'),…"
      ]
     },
     "metadata": {},
     "output_type": "display_data"
    }
   ],
   "source": [
    "import sys\n",
    "from datetime import datetime\n",
    "\n",
    "from pyspark.sql import SparkSession\n",
    "from pyspark.sql.functions import *"
   ]
  },
  {
   "cell_type": "code",
   "execution_count": 2,
   "id": "521af3f0",
   "metadata": {},
   "outputs": [
    {
     "data": {
      "application/vnd.jupyter.widget-view+json": {
       "model_id": "fa98decc6e5c4095877975f34b7375ae",
       "version_major": 2,
       "version_minor": 0
      },
      "text/plain": [
       "VBox()"
      ]
     },
     "metadata": {},
     "output_type": "display_data"
    },
    {
     "data": {
      "application/vnd.jupyter.widget-view+json": {
       "model_id": "",
       "version_major": 2,
       "version_minor": 0
      },
      "text/plain": [
       "FloatProgress(value=0.0, bar_style='info', description='Progress:', layout=Layout(height='25px', width='50%'),…"
      ]
     },
     "metadata": {},
     "output_type": "display_data"
    }
   ],
   "source": [
    "spark = SparkSession\\\n",
    "    .builder\\\n",
    "    .appName(\"SolarDataBilling3\")\\\n",
    "    .getOrCreate()"
   ]
  },
  {
   "cell_type": "code",
   "execution_count": 3,
   "id": "711dc603",
   "metadata": {},
   "outputs": [
    {
     "data": {
      "application/vnd.jupyter.widget-view+json": {
       "model_id": "a1236992591a48268583a71fb3ab4fb9",
       "version_major": 2,
       "version_minor": 0
      },
      "text/plain": [
       "VBox()"
      ]
     },
     "metadata": {},
     "output_type": "display_data"
    },
    {
     "data": {
      "application/vnd.jupyter.widget-view+json": {
       "model_id": "",
       "version_major": 2,
       "version_minor": 0
      },
      "text/plain": [
       "FloatProgress(value=0.0, bar_style='info', description='Progress:', layout=Layout(height='25px', width='50%'),…"
      ]
     },
     "metadata": {},
     "output_type": "display_data"
    },
    {
     "name": "stdout",
     "output_type": "stream",
     "text": [
      "+------------------+--------------------+--------------------+------+------+-------+\n",
      "|        clientname|           startdate|             enddate|rate10|rate50|rate100|\n",
      "+------------------+--------------------+--------------------+------+------+-------+\n",
      "|       Apple, Inc.|2021-01-01T00:00:...|2021-12-31T23:59:...|  0.01|  0.03|   0.05|\n",
      "|   Microsoft, Inc.|2021-01-01T00:00:...|2021-12-31T23:59:...| 0.008| 0.015|  0.049|\n",
      "|Tesla Motors, Inc.|2021-01-01T00:00:...|2021-12-31T23:59:...|  0.01|  0.02|  0.054|\n",
      "+------------------+--------------------+--------------------+------+------+-------+"
     ]
    }
   ],
   "source": [
    "spark.catalog.setCurrentDatabase(\"solarData\")\n",
    "dfContracts = spark.sql(\"select * from contracts\")\n",
    "dfContracts.show()"
   ]
  },
  {
   "cell_type": "code",
   "execution_count": 7,
   "id": "5aecbe2b",
   "metadata": {},
   "outputs": [
    {
     "data": {
      "application/vnd.jupyter.widget-view+json": {
       "model_id": "a3fae88fc9bd44c587e1272a7fd06c2c",
       "version_major": 2,
       "version_minor": 0
      },
      "text/plain": [
       "VBox()"
      ]
     },
     "metadata": {},
     "output_type": "display_data"
    },
    {
     "data": {
      "application/vnd.jupyter.widget-view+json": {
       "model_id": "",
       "version_major": 2,
       "version_minor": 0
      },
      "text/plain": [
       "FloatProgress(value=0.0, bar_style='info', description='Progress:', layout=Layout(height='25px', width='50%'),…"
      ]
     },
     "metadata": {},
     "output_type": "display_data"
    },
    {
     "name": "stdout",
     "output_type": "stream",
     "text": [
      "+----+-----+-----------+-----+\n",
      "|year|month|total_watts|speed|\n",
      "+----+-----+-----------+-----+\n",
      "|2021|    1|       1170|   50|\n",
      "|2021|    1|       5635|  100|\n",
      "|2021|    2|       4393|  100|\n",
      "|2021|    2|        213|   10|\n",
      "|2021|    3|        302|   10|\n",
      "|2021|    3|       3984|  100|\n",
      "|2021|    4|        360|   10|\n",
      "|2021|    4|       4438|  100|\n",
      "|2021|    5|       5141|  100|\n",
      "|2021|    6|       5147|  100|\n",
      "|2021|    7|       2975|  100|\n",
      "|2021|    8|       4513|  100|\n",
      "|2021|    8|        762|   10|\n",
      "|2021|    9|        417|   50|\n",
      "|2021|    9|        775|   10|\n",
      "|2021|    9|       1259|  100|\n",
      "|2021|   10|       2612|  100|\n",
      "|2021|   11|        231|   50|\n",
      "|2021|   11|        702|   10|\n",
      "|2021|   11|       2758|  100|\n",
      "+----+-----+-----------+-----+\n",
      "only showing top 20 rows"
     ]
    }
   ],
   "source": [
    "strQuery = f\"SELECT year, month, SUM(watts) AS total_watts, speed FROM solar_data GROUP BY year, month, speed ORDER BY month\"\n",
    "dfSolarData = spark.sql(strQuery)\n",
    "dfSolarData.show()"
   ]
  },
  {
   "cell_type": "code",
   "execution_count": 11,
   "id": "39035e79",
   "metadata": {},
   "outputs": [
    {
     "data": {
      "application/vnd.jupyter.widget-view+json": {
       "model_id": "92d1414d78f249a09d505db8db081cb1",
       "version_major": 2,
       "version_minor": 0
      },
      "text/plain": [
       "VBox()"
      ]
     },
     "metadata": {},
     "output_type": "display_data"
    },
    {
     "data": {
      "application/vnd.jupyter.widget-view+json": {
       "model_id": "",
       "version_major": 2,
       "version_minor": 0
      },
      "text/plain": [
       "FloatProgress(value=0.0, bar_style='info', description='Progress:', layout=Layout(height='25px', width='50%'),…"
      ]
     },
     "metadata": {},
     "output_type": "display_data"
    },
    {
     "name": "stdout",
     "output_type": "stream",
     "text": [
      "{'clientName': 'Apple, Inc.', 'total': 2441.56, 'details': [{'period': 'January 2021', 'speed': 100, 'watts': 5635, 'rate': 0.05, 'total': 281.75}, {'period': 'January 2021', 'speed': 50, 'watts': 1170, 'rate': 0.03, 'total': 35.1}, {'period': 'February 2021', 'speed': 10, 'watts': 213, 'rate': 0.01, 'total': 2.13}, {'period': 'February 2021', 'speed': 100, 'watts': 4393, 'rate': 0.05, 'total': 219.65}, {'period': 'March 2021', 'speed': 10, 'watts': 302, 'rate': 0.01, 'total': 3.02}, {'period': 'March 2021', 'speed': 100, 'watts': 3984, 'rate': 0.05, 'total': 199.2}, {'period': 'April 2021', 'speed': 100, 'watts': 4438, 'rate': 0.05, 'total': 221.9}, {'period': 'April 2021', 'speed': 10, 'watts': 360, 'rate': 0.01, 'total': 3.6}, {'period': 'May 2021', 'speed': 100, 'watts': 5141, 'rate': 0.05, 'total': 257.05}, {'period': 'June 2021', 'speed': 100, 'watts': 5147, 'rate': 0.05, 'total': 257.35}, {'period': 'July 2021', 'speed': 100, 'watts': 2975, 'rate': 0.05, 'total': 148.75}, {'period': 'August 2021', 'speed': 10, 'watts': 762, 'rate': 0.01, 'total': 7.62}, {'period': 'August 2021', 'speed': 100, 'watts': 4513, 'rate': 0.05, 'total': 225.65}, {'period': 'September 2021', 'speed': 100, 'watts': 1259, 'rate': 0.05, 'total': 62.95}, {'period': 'September 2021', 'speed': 10, 'watts': 775, 'rate': 0.01, 'total': 7.75}, {'period': 'September 2021', 'speed': 50, 'watts': 417, 'rate': 0.03, 'total': 12.51}, {'period': 'October 2021', 'speed': 100, 'watts': 2612, 'rate': 0.05, 'total': 130.6}, {'period': 'November 2021', 'speed': 100, 'watts': 2758, 'rate': 0.05, 'total': 137.9}, {'period': 'November 2021', 'speed': 50, 'watts': 231, 'rate': 0.03, 'total': 6.93}, {'period': 'November 2021', 'speed': 10, 'watts': 702, 'rate': 0.01, 'total': 7.02}, {'period': 'December 2021', 'speed': 100, 'watts': 3306, 'rate': 0.05, 'total': 165.3}, {'period': 'December 2021', 'speed': 10, 'watts': 4783, 'rate': 0.01, 'total': 47.83}]}\n",
      "{'clientName': 'Microsoft, Inc.', 'total': 2352.34, 'details': [{'period': 'January 2021', 'speed': 100, 'watts': 5635, 'rate': 0.049, 'total': 276.12}, {'period': 'January 2021', 'speed': 50, 'watts': 1170, 'rate': 0.015, 'total': 17.55}, {'period': 'February 2021', 'speed': 10, 'watts': 213, 'rate': 0.008, 'total': 1.7}, {'period': 'February 2021', 'speed': 100, 'watts': 4393, 'rate': 0.049, 'total': 215.26}, {'period': 'March 2021', 'speed': 10, 'watts': 302, 'rate': 0.008, 'total': 2.42}, {'period': 'March 2021', 'speed': 100, 'watts': 3984, 'rate': 0.049, 'total': 195.22}, {'period': 'April 2021', 'speed': 100, 'watts': 4438, 'rate': 0.049, 'total': 217.46}, {'period': 'April 2021', 'speed': 10, 'watts': 360, 'rate': 0.008, 'total': 2.88}, {'period': 'May 2021', 'speed': 100, 'watts': 5141, 'rate': 0.049, 'total': 251.91}, {'period': 'June 2021', 'speed': 100, 'watts': 5147, 'rate': 0.049, 'total': 252.2}, {'period': 'July 2021', 'speed': 100, 'watts': 2975, 'rate': 0.049, 'total': 145.78}, {'period': 'August 2021', 'speed': 10, 'watts': 762, 'rate': 0.008, 'total': 6.1}, {'period': 'August 2021', 'speed': 100, 'watts': 4513, 'rate': 0.049, 'total': 221.14}, {'period': 'September 2021', 'speed': 100, 'watts': 1259, 'rate': 0.049, 'total': 61.69}, {'period': 'September 2021', 'speed': 10, 'watts': 775, 'rate': 0.008, 'total': 6.2}, {'period': 'September 2021', 'speed': 50, 'watts': 417, 'rate': 0.015, 'total': 6.25}, {'period': 'October 2021', 'speed': 100, 'watts': 2612, 'rate': 0.049, 'total': 127.99}, {'period': 'November 2021', 'speed': 100, 'watts': 2758, 'rate': 0.049, 'total': 135.14}, {'period': 'November 2021', 'speed': 50, 'watts': 231, 'rate': 0.015, 'total': 3.46}, {'period': 'November 2021', 'speed': 10, 'watts': 702, 'rate': 0.008, 'total': 5.62}, {'period': 'December 2021', 'speed': 100, 'watts': 3306, 'rate': 0.049, 'total': 161.99}, {'period': 'December 2021', 'speed': 10, 'watts': 4783, 'rate': 0.008, 'total': 38.26}]}\n",
      "{'clientName': 'Tesla Motors, Inc.', 'total': 2608.02, 'details': [{'period': 'January 2021', 'speed': 100, 'watts': 5635, 'rate': 0.054, 'total': 304.29}, {'period': 'January 2021', 'speed': 50, 'watts': 1170, 'rate': 0.02, 'total': 23.4}, {'period': 'February 2021', 'speed': 10, 'watts': 213, 'rate': 0.01, 'total': 2.13}, {'period': 'February 2021', 'speed': 100, 'watts': 4393, 'rate': 0.054, 'total': 237.22}, {'period': 'March 2021', 'speed': 10, 'watts': 302, 'rate': 0.01, 'total': 3.02}, {'period': 'March 2021', 'speed': 100, 'watts': 3984, 'rate': 0.054, 'total': 215.14}, {'period': 'April 2021', 'speed': 100, 'watts': 4438, 'rate': 0.054, 'total': 239.65}, {'period': 'April 2021', 'speed': 10, 'watts': 360, 'rate': 0.01, 'total': 3.6}, {'period': 'May 2021', 'speed': 100, 'watts': 5141, 'rate': 0.054, 'total': 277.61}, {'period': 'June 2021', 'speed': 100, 'watts': 5147, 'rate': 0.054, 'total': 277.94}, {'period': 'July 2021', 'speed': 100, 'watts': 2975, 'rate': 0.054, 'total': 160.65}, {'period': 'August 2021', 'speed': 10, 'watts': 762, 'rate': 0.01, 'total': 7.62}, {'period': 'August 2021', 'speed': 100, 'watts': 4513, 'rate': 0.054, 'total': 243.7}, {'period': 'September 2021', 'speed': 100, 'watts': 1259, 'rate': 0.054, 'total': 67.99}, {'period': 'September 2021', 'speed': 10, 'watts': 775, 'rate': 0.01, 'total': 7.75}, {'period': 'September 2021', 'speed': 50, 'watts': 417, 'rate': 0.02, 'total': 8.34}, {'period': 'October 2021', 'speed': 100, 'watts': 2612, 'rate': 0.054, 'total': 141.05}, {'period': 'November 2021', 'speed': 100, 'watts': 2758, 'rate': 0.054, 'total': 148.93}, {'period': 'November 2021', 'speed': 50, 'watts': 231, 'rate': 0.02, 'total': 4.62}, {'period': 'November 2021', 'speed': 10, 'watts': 702, 'rate': 0.01, 'total': 7.02}, {'period': 'December 2021', 'speed': 100, 'watts': 3306, 'rate': 0.054, 'total': 178.52}, {'period': 'December 2021', 'speed': 10, 'watts': 4783, 'rate': 0.01, 'total': 47.83}]}"
     ]
    }
   ],
   "source": [
    "solarDataCollect = dfSolarData.collect()\n",
    "contractsCollect = dfContracts.collect()\n",
    "\n",
    "billsToCreate = []\n",
    "\n",
    "for contract in contractsCollect:\n",
    "    \n",
    "    newClient = {\n",
    "        \"clientName\": contract.clientname,\n",
    "        \"total\" : 0.00,\n",
    "        \"details\" : []\n",
    "    }\n",
    "    \n",
    "    for solarData in solarDataCollect:\n",
    "        datetime_object = datetime.strptime(f\"{solarData.month}\", \"%m\")\n",
    "        monthName = datetime_object.strftime(\"%B\")\n",
    "        \n",
    "        rate = 0.00\n",
    "        if solarData.speed == 100:\n",
    "            rate = contract.rate100\n",
    "        elif solarData.speed == 50:\n",
    "            rate = contract.rate50\n",
    "        elif solarData.speed == 10:\n",
    "            rate = contract.rate10\n",
    "        \n",
    "        \n",
    "        detailTotal = rate * solarData.total_watts\n",
    "        \n",
    "        detail = {\n",
    "            \"period\" : f\"{monthName} {solarData.year}\",\n",
    "            \"speed\" : solarData.speed,\n",
    "            \"watts\" : solarData.total_watts,\n",
    "            \"rate\" : rate,\n",
    "            \"total\" : float(format(detailTotal, \".2f\"))\n",
    "        }\n",
    "        \n",
    "        newClient['details'].append(detail)\n",
    "        newClient['total'] += detail['total']\n",
    "        \n",
    "    print(newClient)\n",
    "        \n",
    "    billsToCreate.append(newClient)"
   ]
  },
  {
   "cell_type": "code",
   "execution_count": 12,
   "id": "676b731d",
   "metadata": {},
   "outputs": [
    {
     "data": {
      "application/vnd.jupyter.widget-view+json": {
       "model_id": "209ab2b091404f8891cb28eae5bca40a",
       "version_major": 2,
       "version_minor": 0
      },
      "text/plain": [
       "VBox()"
      ]
     },
     "metadata": {},
     "output_type": "display_data"
    },
    {
     "data": {
      "application/vnd.jupyter.widget-view+json": {
       "model_id": "",
       "version_major": 2,
       "version_minor": 0
      },
      "text/plain": [
       "FloatProgress(value=0.0, bar_style='info', description='Progress:', layout=Layout(height='25px', width='50%'),…"
      ]
     },
     "metadata": {},
     "output_type": "display_data"
    },
    {
     "name": "stdout",
     "output_type": "stream",
     "text": [
      "+------------------+--------------------+-------+\n",
      "|        clientName|             details|  total|\n",
      "+------------------+--------------------+-------+\n",
      "|       Apple, Inc.|[[total -> 281.75...|2441.56|\n",
      "|   Microsoft, Inc.|[[total -> 276.12...|2352.34|\n",
      "|Tesla Motors, Inc.|[[total -> 304.29...|2608.02|\n",
      "+------------------+--------------------+-------+\n",
      "\n",
      "+------------------+--------------------+-------+\n",
      "|        clientName|             details|  total|\n",
      "+------------------+--------------------+-------+\n",
      "|       Apple, Inc.|[[total -> 281.75...|2441.56|\n",
      "|   Microsoft, Inc.|[[total -> 276.12...|2352.34|\n",
      "|Tesla Motors, Inc.|[[total -> 304.29...|2608.02|\n",
      "+------------------+--------------------+-------+\n",
      "\n",
      "+------------------+--------------------+-------+\n",
      "|        clientName|             details|  total|\n",
      "+------------------+--------------------+-------+\n",
      "|       Apple, Inc.|[[total -> 281.75...|2441.56|\n",
      "|   Microsoft, Inc.|[[total -> 276.12...|2352.34|\n",
      "|Tesla Motors, Inc.|[[total -> 304.29...|2608.02|\n",
      "+------------------+--------------------+-------+\n",
      "\n",
      "/usr/lib/spark/python/lib/pyspark.zip/pyspark/sql/session.py:346: UserWarning: inferring schema from dict is deprecated,please use pyspark.sql.Row instead"
     ]
    }
   ],
   "source": [
    "for billToCreate in billsToCreate:\n",
    "    df = spark.createDataFrame(billsToCreate)\n",
    "    df.show()\n",
    "    df.write.format(\"json\").mode(\"overwrite\").save(\"s3://santos-solar-data/bills/\")\n"
   ]
  },
  {
   "cell_type": "code",
   "execution_count": null,
   "id": "33b58b36",
   "metadata": {},
   "outputs": [],
   "source": []
  }
 ],
 "metadata": {
  "kernelspec": {
   "display_name": "PySpark",
   "language": "",
   "name": "pysparkkernel"
  },
  "language_info": {
   "codemirror_mode": {
    "name": "python",
    "version": 3
   },
   "mimetype": "text/x-python",
   "name": "pyspark",
   "pygments_lexer": "python3"
  }
 },
 "nbformat": 4,
 "nbformat_minor": 5
}
